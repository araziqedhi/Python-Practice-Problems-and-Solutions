{
 "cells": [
  {
   "cell_type": "markdown",
   "id": "a7171e33",
   "metadata": {},
   "source": [
    " ## Exercise 3 : Numbers in python\n",
    "* 1) You have a football field that is 92 meter long and 48.8 meter wide. Find out total area using python and print it.\n",
    "* 2)You bought 9 packets of potato chips from a store. Each packet costs 1.49 dollar and you gave shopkeeper 20 dollar. Find out     using python, how many dollars is the shopkeeper going to give you back?\n",
    "* 3)You want to replace tiles in your bathroom which is exactly square and 5.5 feet is its length. If tiles cost 500 rs per square feet, how much will be the total cost to replace all tiles. Calculate and print the cost using python (Hint: Use power operator ** to find area of a square)\n",
    "* 4)Print binary representation of number 17"
   ]
  },
  {
   "cell_type": "code",
   "execution_count": 6,
   "id": "cc42c246",
   "metadata": {},
   "outputs": [
    {
     "name": "stdout",
     "output_type": "stream",
     "text": [
      "10001\n",
      "10\n"
     ]
    }
   ],
   "source": [
    "## Q1\n",
    "## Q2 \n",
    "## Q3\n",
    "## Q4\n",
    "print(format(17,\"b\"))\n",
    "print(format(2,\"b\"))"
   ]
  },
  {
   "cell_type": "markdown",
   "id": "29fc526e",
   "metadata": {},
   "source": [
    " ## Exercise 4: String in Python\n",
    "* 1) Create 3 variables to store street, city and country, now create address variable to store entire address. Use two ways of creating this variable, one using + operator and the other using f-string. Now Print the address in such a way that the street, city and country prints in a separate line\n",
    "* 2) Create a variable to store the string \"Earth revolves around the sun\"\n",
    "* 3) Print \"revolves\" using slice operator\n",
    "* 4) Print \"sun\" using negative index\n",
    "* 5) Create two variables to store how many fruits and vegetables you eat in a day. Now Print \"I eat x veggies and y fruits daily\" where x and y presents vegetables and fruits that you eat everyday. Use python f string for this.\n",
    "* 6) I have a string variable called s='maine 200 banana khaye'. This of course is a wrong statement, the correct statement is 'maine 10 samosa khaye'. Replace incorrect words in original strong with new ones and print the new string. Also try to do this in one line.\n"
   ]
  },
  {
   "cell_type": "code",
   "execution_count": 11,
   "id": "d74d204a",
   "metadata": {},
   "outputs": [
    {
     "name": "stdout",
     "output_type": "stream",
     "text": [
      "14\n",
      "karachi\n",
      "country\n",
      "\n",
      "14\n",
      "karachi\n",
      "Pakistan\n",
      "\n"
     ]
    }
   ],
   "source": [
    "## Q1\n",
    "street=str(14);\n",
    "city=\"karachi\";\n",
    "country=\"Pakistan\";\n",
    "entire_address=street +\"\\n\"+city+\"\\n\"+\"country\"\n",
    "entire_address_1=f'''\n",
    "{street}\\n{city}\\n{country}\n",
    "'''\n",
    "print(entire_address)\n",
    "print(entire_address_1)\n"
   ]
  },
  {
   "cell_type": "code",
   "execution_count": 15,
   "id": "093d5da1",
   "metadata": {},
   "outputs": [
    {
     "name": "stdout",
     "output_type": "stream",
     "text": [
      "revolves\n",
      "sun\n"
     ]
    }
   ],
   "source": [
    "## Q2 \n",
    "a=\"Earth revolves around the sun\"\n",
    "b=a[6:14]\n",
    "print(b)\n",
    "print(a[-3:])"
   ]
  },
  {
   "cell_type": "code",
   "execution_count": 19,
   "id": "0d3ab217",
   "metadata": {},
   "outputs": [
    {
     "name": "stdout",
     "output_type": "stream",
     "text": [
      "maine 10 samosa khaye\n"
     ]
    }
   ],
   "source": [
    "## Q6\n",
    "s='maine 200 banana khaye'\n",
    "y=s.replace(\"200 banana\",\"10 samosa\")\n",
    "print(y)"
   ]
  },
  {
   "cell_type": "markdown",
   "id": "d3d3fbc0",
   "metadata": {},
   "source": [
    "## Exercise: Python Lists\n",
    "* Q 1 ) Let us say your expense for every month are listed below,\n",
    "* January - 2200\n",
    "* February - 2350\n",
    "* March - 2600\n",
    "* April - 2130\n",
    "* May - 2190\n",
    "* Create a list to store these monthly expenses and using that find out,\n",
    "\n",
    "* 1. In Feb, how many dollars you spent extra compare to January?\n",
    "* 2. Find out your total expense in first quarter (first three months) of the year.\n",
    "* 3. Find out if you spent exactly 2000 dollars in any month\n",
    "* 4. June month just finished and your expense is 1980 dollar. Add this item to our monthly expense list\n",
    "* 5. You returned an item that you bought in a month of April and\n",
    "* got a refund of 200$. Make a correction to your monthly expense list based on this\n",
    "* Q2 ) You have a list of your favourite marvel super heros.\n",
    "*     heros=['spider man','thor','hulk','iron man','captain america']\n",
    "*     Using this find out,\n",
    "\n",
    "*  1. Length of the list\n",
    "*  2. Add 'black panther' at the end of this list\n",
    "*  3. You realize that you need to add 'black panther' after 'hulk',\n",
    "   so remove it from the list first and then add it after 'hulk'\n",
    "* 4. Now you don't like thor and hulk because they get angry easily :)\n",
    "   So you want to remove thor and hulk from list and replace them with doctor strange (because he is cool).\n",
    "   Do that with one line of code.\n",
    "* 5. Sort the heros list in alphabetical order (Hint. Use dir() functions to list down all functions available in list)"
   ]
  },
  {
   "cell_type": "code",
   "execution_count": 41,
   "id": "be7a6970",
   "metadata": {},
   "outputs": [
    {
     "name": "stdout",
     "output_type": "stream",
     "text": [
      "150\n",
      "7150\n",
      "False\n",
      "[2200, 2350, 2600, 2130, 2190, 1980]\n",
      "[2200, 2350, 2600, 1930, 2190, 1980]\n"
     ]
    }
   ],
   "source": [
    "## Q1 \n",
    "expense=[2200,2350,2600,2130,2190]\n",
    "extra_feb=expense[1]-expense[0]\n",
    "print(extra_feb)\n",
    "first_quarter=expense[0] + expense[1] + expense[2]\n",
    "print(first_quarter)\n",
    "find_expense=2000 in expense\n",
    "print(find_expense)\n",
    "expense.append(1980)\n",
    "print(expense)\n",
    "adjusted=expense[3]-200\n",
    "expense[3]=adjusted\n",
    "print(expense)"
   ]
  },
  {
   "cell_type": "code",
   "execution_count": 66,
   "id": "01a29566",
   "metadata": {},
   "outputs": [
    {
     "name": "stdout",
     "output_type": "stream",
     "text": [
      "['spider man', 'thor', 'hulk', 'iron man', 'captain america', 'black panther']\n",
      "['spider man', 'thor', 'hulk', 'black panther', 'iron man', 'captain america']\n",
      "['spider man', 'doctor strange', 'black panther', 'iron man', 'captain america']\n",
      "['black panther', 'captain america', 'doctor strange', 'iron man', 'spider man']\n"
     ]
    }
   ],
   "source": [
    "## Q2\n",
    "heros=['spider man','thor','hulk','iron man','captain america']\n",
    "dir(heros)\n",
    "len(heros)\n",
    "heros.append('black panther')\n",
    "print(heros)\n",
    "heros.remove('black panther')\n",
    "heros.insert(3,'black panther')\n",
    "print(heros)\n",
    "heros[1:3]=[\"doctor strange\"]\n",
    "print(heros)\n",
    "heros.sort()\n",
    "print(heros)"
   ]
  },
  {
   "cell_type": "markdown",
   "id": "b8582b69",
   "metadata": {},
   "source": [
    "## * Exercise: Python for loop\n",
    "* After flipping a coin 10 times you got this result,\n",
    "* result = [\"heads\",\"tails\",\"tails\",\"heads\",\"tails\",\"heads\",\"heads\",\"tails\",\"tails\",\"tails\"]\n",
    "* Using for loop figure out how many times you got heads\n",
    "\n",
    "* Print square of all numbers between 1 to 10 except even numbers\n",
    "* Your monthly expense list (from Jan to May) looks like this,\n",
    "* expense_list = [2340, 2500, 2100, 3100, 2980]\n",
    "* Write a program that asks you to enter an expense amount and program should tell you in which month that expense occurred. If   expense is not found then it should print that as well.\n",
    "\n",
    "* Lets say you are running a 5 km race. Write a program that,\n",
    "\n",
    "* Upon completing each 1 km asks you \"are you tired?\"\n",
    "* If you reply \"yes\" then it should break and print \"you didn't finish the race\"\n",
    "* If you reply \"no\" then it should continue and ask \"are you tired\" on every km\n",
    "* If you finish all 5 km then it should print congratulations message\n",
    "* Write a program that prints following shape\n",
    "\n",
    "* '   *   '\n",
    "* '   **  '\n",
    "* '   ***  '\n",
    "* '   ****  '\n",
    "* '   ***** '"
   ]
  },
  {
   "cell_type": "code",
   "execution_count": 73,
   "id": "9e9bb53d",
   "metadata": {},
   "outputs": [
    {
     "name": "stdout",
     "output_type": "stream",
     "text": [
      "tails\n"
     ]
    }
   ],
   "source": [
    "## Question 1\n",
    "result = [\"heads\",\"tails\",\"tails\",\"heads\",\"tails\",\"heads\",\"heads\",\"tails\",\"tails\",\"tails\"]\n",
    "count=0\n",
    "for i in result:\n",
    "    if i==\"heads\":\n",
    "        count +=1\n",
    "print(count)"
   ]
  },
  {
   "cell_type": "code",
   "execution_count": 74,
   "id": "9076f268",
   "metadata": {},
   "outputs": [
    {
     "name": "stdout",
     "output_type": "stream",
     "text": [
      "1\n",
      "9\n",
      "25\n",
      "49\n",
      "81\n"
     ]
    }
   ],
   "source": [
    "## Question 2\n",
    "for i in range(10):\n",
    "    if i%2!=0:\n",
    "        print(i**2)"
   ]
  },
  {
   "cell_type": "code",
   "execution_count": null,
   "id": "252e867c",
   "metadata": {},
   "outputs": [],
   "source": [
    "## Question 3\n"
   ]
  }
 ],
 "metadata": {
  "kernelspec": {
   "display_name": "Python 3 (ipykernel)",
   "language": "python",
   "name": "python3"
  },
  "language_info": {
   "codemirror_mode": {
    "name": "ipython",
    "version": 3
   },
   "file_extension": ".py",
   "mimetype": "text/x-python",
   "name": "python",
   "nbconvert_exporter": "python",
   "pygments_lexer": "ipython3",
   "version": "3.9.13"
  }
 },
 "nbformat": 4,
 "nbformat_minor": 5
}
