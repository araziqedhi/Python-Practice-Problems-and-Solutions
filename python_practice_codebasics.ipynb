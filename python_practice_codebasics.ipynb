{
 "cells": [
  {
   "cell_type": "markdown",
   "id": "12e5c099",
   "metadata": {},
   "source": [
    "## Exercise 2 : Python Variables\n",
    "* 1) Create a variable called break and assign it a value 5. See what happens and find out the reason behind the behavior that you see.\n",
    "\n",
    "* 2) Create two variables. One to store your birth year and another one to store current year. Now calculate your age using these two variables\n",
    "\n",
    "* 3) Store your first, middle and last name in three different variables and then print your full name using these variables\n",
    "\n",
    "* 4) Answer which of these are invalid variable names: _nation 1record record1 record_one record-one record^one continue "
   ]
  },
  {
   "cell_type": "code",
   "execution_count": 1,
   "id": "87f129bb",
   "metadata": {},
   "outputs": [],
   "source": [
    "# Qs 1\n",
    " # break = 5 This is not valid bcz break is reserved variable "
   ]
  },
  {
   "cell_type": "code",
   "execution_count": 2,
   "id": "f97c86e2",
   "metadata": {},
   "outputs": [
    {
     "name": "stdout",
     "output_type": "stream",
     "text": [
      "23\n"
     ]
    }
   ],
   "source": [
    "# Qs 2\n",
    "birth_year = 2000\n",
    "current_year = 2023\n",
    "age = current_year - birth_year\n",
    "print(age)"
   ]
  },
  {
   "cell_type": "code",
   "execution_count": 3,
   "id": "7a0872ab",
   "metadata": {},
   "outputs": [
    {
     "name": "stdout",
     "output_type": "stream",
     "text": [
      "Abdul Raziq Barkat Ali\n"
     ]
    }
   ],
   "source": [
    "# Qs 3\n",
    "first_name = \"Abdul\"\n",
    "Middle_name = \"Raziq\"\n",
    "Last_name = \"Barkat Ali\"\n",
    "Full_name = f'{first_name} {Middle_name} {Last_name}'\n",
    "print(Full_name)"
   ]
  },
  {
   "cell_type": "code",
   "execution_count": 4,
   "id": "697953c8",
   "metadata": {},
   "outputs": [],
   "source": [
    "# Qs 4\n"
   ]
  },
  {
   "cell_type": "markdown",
   "id": "9fc3da0a",
   "metadata": {},
   "source": [
    "## Exercise 3 : Numbers in python\n",
    "* 1) You have a football field that is 92 meter long and 48.8 meter wide. Find out total area using python and print it.\n",
    "* 2)You bought 9 packets of potato chips from a store. Each packet costs 1.49 dollar and you gave shopkeeper 20 dollar. Find out     using python, how many dollars is the shopkeeper going to give you back?\n",
    "* 3)You want to replace tiles in your bathroom which is exactly square and 5.5 feet is its length. If tiles cost 500 rs per square feet, how much will be the total cost to replace all tiles. Calculate and print the cost using python (Hint: Use power operator ** to find area of a square)\n",
    "* 4)Print binary representation of number 17"
   ]
  },
  {
   "cell_type": "code",
   "execution_count": 5,
   "id": "55e50e89",
   "metadata": {},
   "outputs": [
    {
     "name": "stdout",
     "output_type": "stream",
     "text": [
      "4489.599999999999\n"
     ]
    }
   ],
   "source": [
    "# 1) You have a football field that is 92 meter long and 48.8 meter wide. Find out total area using python and print it.\n",
    "l=92;\n",
    "b=48.8;\n",
    "A=l*b;\n",
    "print(A)"
   ]
  },
  {
   "cell_type": "markdown",
   "id": "519f625c",
   "metadata": {},
   "source": [
    "#### 2)You bought 9 packets of potato chips from a store. Each packet costs 1.49 dollar and you gave shopkeeper 20 dollar. Find out using python, how many dollars is the shopkeeper going to give you back?"
   ]
  },
  {
   "cell_type": "code",
   "execution_count": 6,
   "id": "2e1c91b5",
   "metadata": {},
   "outputs": [
    {
     "name": "stdout",
     "output_type": "stream",
     "text": [
      "6.59\n"
     ]
    }
   ],
   "source": [
    "packets = 9\n",
    "Each_cost= 1.49\n",
    "payment = 20\n",
    "return_payment = payment - (packets*Each_cost)\n",
    "print(return_payment)"
   ]
  },
  {
   "cell_type": "markdown",
   "id": "64cb1e25",
   "metadata": {},
   "source": [
    "3)You want to replace tiles in your bathroom which is exactly square and 5.5 feet is its length. If tiles cost 500 rs per square feet, how much will be the total cost to replace all tiles. Calculate and print the cost using python (Hint: Use power operator ** to find area of a square)"
   ]
  },
  {
   "cell_type": "code",
   "execution_count": 7,
   "id": "1b016d59",
   "metadata": {},
   "outputs": [
    {
     "name": "stdout",
     "output_type": "stream",
     "text": [
      "30.25\n",
      "15125.0\n"
     ]
    }
   ],
   "source": [
    "l=5.5\n",
    "cost=500\n",
    "Area=l**2\n",
    "print(Area)\n",
    "Total_cost=Area*cost\n",
    "print(Total_cost)"
   ]
  },
  {
   "cell_type": "markdown",
   "id": "51c47c95",
   "metadata": {},
   "source": [
    "4) Print binary representation of number 17"
   ]
  },
  {
   "cell_type": "code",
   "execution_count": 8,
   "id": "d80823d7",
   "metadata": {},
   "outputs": [
    {
     "name": "stdout",
     "output_type": "stream",
     "text": [
      "10001\n",
      "10110\n"
     ]
    }
   ],
   "source": [
    "print(format(17,\"b\"))\n",
    "print(format(22,\"b\"))"
   ]
  },
  {
   "cell_type": "markdown",
   "id": "b803fc5a",
   "metadata": {},
   "source": [
    "## Exercise 4: String in Python\n",
    "* 1) Create 3 variables to store street, city and country, now create address variable to store entire address. Use two ways of creating this variable, one using + operator and the other using f-string. Now Print the address in such a way that the street, city and country prints in a separate line\n",
    "* 2) Create a variable to store the string \"Earth revolves around the sun\"\n",
    "* 3) Print \"revolves\" using slice operator\n",
    "* 4) Print \"sun\" using negative index\n",
    "* 5) Create two variables to store how many fruits and vegetables you eat in a day. Now Print \"I eat x veggies and y fruits daily\" where x and y presents vegetables and fruits that you eat everyday. Use python f string for this.\n",
    "* 6) I have a string variable called s='maine 200 banana khaye'. This of course is a wrong statement, the correct statement is 'maine 10 samosa khaye'. Replace incorrect words in original strong with new ones and print the new string. Also try to do this in one line.\n"
   ]
  },
  {
   "cell_type": "markdown",
   "id": "d50e05ac",
   "metadata": {},
   "source": [
    "1) Create 3 variables to store street, city and country, now create address variable to store entire address. Use two ways of creating this variable, one using + operator and the other using f-string. Now Print the address in such a way that the street, city and country prints in a separate line"
   ]
  },
  {
   "cell_type": "code",
   "execution_count": 9,
   "id": "126f1973",
   "metadata": {},
   "outputs": [
    {
     "name": "stdout",
     "output_type": "stream",
     "text": [
      "1453\n",
      "Karachi\n",
      "Pakistan\n",
      "\n",
      "1453\n",
      "Karachi\n",
      "Pakistan\n"
     ]
    }
   ],
   "source": [
    "street = \"1453\"\n",
    "city = \"Karachi\"\n",
    "country = \"Pakistan\"\n",
    "Address = street +\"\\n\"+city+\"\\n\"+country+\"\\n\"\n",
    "print(Address)\n",
    "\n",
    "Address2= f\"{street}\\n{city}\\n{country}\"\n",
    "print(Address2)"
   ]
  },
  {
   "cell_type": "markdown",
   "id": "cbc46aa2",
   "metadata": {},
   "source": [
    "* 2) Create a variable to store the string \"Earth revolves around the sun\"\n",
    "* 3) Print \"revolves\" using slice operator\n",
    "* 4) Print \"sun\" using negative index"
   ]
  },
  {
   "cell_type": "code",
   "execution_count": 10,
   "id": "c50b5608",
   "metadata": {},
   "outputs": [
    {
     "name": "stdout",
     "output_type": "stream",
     "text": [
      "revolves\n",
      "sun\n"
     ]
    }
   ],
   "source": [
    "earth = \"Earth revolves around the sun\";\n",
    "print(earth[6:14:1])\n",
    "print(earth[-3:])"
   ]
  },
  {
   "cell_type": "markdown",
   "id": "7ca7fdd5",
   "metadata": {},
   "source": [
    "5) Create two variables to store how many fruits and vegetables you eat in a day. Now Print \"I eat x veggies and y fruits daily\" where x and y presents vegetables and fruits that you eat everyday. Use python f string for this."
   ]
  },
  {
   "cell_type": "code",
   "execution_count": 11,
   "id": "d65b6218",
   "metadata": {},
   "outputs": [
    {
     "name": "stdout",
     "output_type": "stream",
     "text": [
      "I eat 2 veggies and 4 fruits daily\n"
     ]
    }
   ],
   "source": [
    "fruit=\"2\";\n",
    "vegatable=\"4\";\n",
    "msg=f\"I eat {fruit} veggies and {vegatable} fruits daily\"\n",
    "print(msg)"
   ]
  },
  {
   "cell_type": "markdown",
   "id": "079d6725",
   "metadata": {},
   "source": [
    "6) I have a string variable called s='maine 200 banana khaye'. This of course is a wrong statement, the correct statement is 'maine 10 samosa khaye'. Replace incorrect words in original string with new ones and print the new string. Also try to do this in one line"
   ]
  },
  {
   "cell_type": "code",
   "execution_count": 12,
   "id": "50d6749b",
   "metadata": {},
   "outputs": [
    {
     "data": {
      "text/plain": [
       "'maine 10 samosa khaye'"
      ]
     },
     "execution_count": 12,
     "metadata": {},
     "output_type": "execute_result"
    }
   ],
   "source": [
    "s='maine 200 banana khaye'\n",
    "s.replace(\"200 banana\",\"10 samosa\")\n"
   ]
  },
  {
   "cell_type": "markdown",
   "id": "5a2c1b75",
   "metadata": {},
   "source": [
    "## Exercise 5 : Python Lists"
   ]
  },
  {
   "cell_type": "markdown",
   "id": "a01ff777",
   "metadata": {},
   "source": [
    "Exercise: Python Lists\n",
    "* Q 1 ) Let us say your expense for every month are listed below,\n",
    "* January - 2200\n",
    "* February - 2350\n",
    "* March - 2600\n",
    "* April - 2130\n",
    "* May - 2190\n",
    "* Create a list to store these monthly expenses and using that find out,\n",
    "\n",
    "* 1. In Feb, how many dollars you spent extra compare to January?\n",
    "* 2. Find out your total expense in first quarter (first three months) of the year.\n",
    "* 3. Find out if you spent exactly 2000 dollars in any month\n",
    "* 4. June month just finished and your expense is 1980 dollar. Add this item to our monthly expense list\n",
    "* 5. You returned an item that you bought in a month of April and\n",
    "* got a refund of 200$. Make a correction to your monthly expense list based on this\n",
    "* Q2 ) You have a list of your favourite marvel super heros.\n",
    "*     heros=['spider man','thor','hulk','iron man','captain america']\n",
    "*     Using this find out,\n",
    "\n",
    "*  1. Length of the list\n",
    "*  2. Add 'black panther' at the end of this list\n",
    "*  3. You realize that you need to add 'black panther' after 'hulk',\n",
    "   so remove it from the list first and then add it after 'hulk'\n",
    "* 4. Now you don't like thor and hulk because they get angry easily :)\n",
    "   So you want to remove thor and hulk from list and replace them with doctor strange (because he is cool).\n",
    "   Do that with one line of code.\n",
    "* 5. Sort the heros list in alphabetical order (Hint. Use dir() functions to list down all functions available in list)"
   ]
  },
  {
   "cell_type": "code",
   "execution_count": 13,
   "id": "8ba8d779",
   "metadata": {},
   "outputs": [
    {
     "name": "stdout",
     "output_type": "stream",
     "text": [
      "150\n",
      "7150\n",
      "False\n",
      "[2200, 2350, 2600, 2130, 2190, 1980]\n",
      "1930\n",
      "[2200, 2350, 2600, 1930, 2190, 1980]\n"
     ]
    }
   ],
   "source": [
    "#Q1 \n",
    "expenses = [2200,2350,2600,2130,2190]\n",
    "feb_extra_expense = expenses[1]-expenses[0]\n",
    "print(feb_extra_expense)\n",
    "\n",
    "first_quarter_expense=expenses[0]+expenses[1]+expenses[2]\n",
    "print(first_quarter_expense)\n",
    "\n",
    "find_2000 = 2000 in expenses\n",
    "print(find_2000)\n",
    "\n",
    "expenses.append(1980)\n",
    "print(expenses)\n",
    "\n",
    "april_adjusted = expenses[3]-200\n",
    "print(april_adjusted)\n",
    "expenses[3]=april_adjusted\n",
    "print(expenses)"
   ]
  },
  {
   "cell_type": "code",
   "execution_count": 14,
   "id": "ad412cf9",
   "metadata": {},
   "outputs": [
    {
     "name": "stdout",
     "output_type": "stream",
     "text": [
      "5\n",
      "['spider man', 'thor', 'hulk', 'iron man', 'captain america', 'black panther']\n",
      "6\n",
      "['spider man', 'thor', 'hulk', 'iron man', 'captain america']\n",
      "['spider man', 'thor', 'hulk', 'black panther', 'iron man', 'captain america']\n",
      "['spider man', 'dr Strange', 'black panther', 'iron man', 'captain america']\n",
      "['black panther', 'captain america', 'dr Strange', 'iron man', 'spider man']\n"
     ]
    }
   ],
   "source": [
    "# Q2\n",
    "heros=['spider man','thor','hulk','iron man','captain america']\n",
    "print(len(heros))\n",
    "\n",
    "heros.append(\"black panther\")\n",
    "print(heros)\n",
    "print(len(heros))\n",
    "\n",
    "heros.remove(\"black panther\")\n",
    "print(heros)\n",
    "heros.insert(3,\"black panther\")\n",
    "print(heros)\n",
    "\n",
    "heros[1:3]=[\"dr Strange\"]\n",
    "print(heros)\n",
    "\n",
    "heros.sort()\n",
    "print(heros)"
   ]
  },
  {
   "cell_type": "markdown",
   "id": "d5bafff1",
   "metadata": {},
   "source": [
    "## Exercise 08"
   ]
  },
  {
   "cell_type": "markdown",
   "id": "eff6ccaa",
   "metadata": {},
   "source": [
    "Exercise: Python If Condition\n",
    "* Q1) Using following list of cities per country,\n",
    "* india = [\"mumbai\", \"banglore\", \"chennai\", \"delhi\"]\n",
    "* pakistan = [\"lahore\",\"karachi\",\"islamabad\"]\n",
    "* bangladesh = [\"dhaka\", \"khulna\", \"rangpur\"]\n",
    "* Write a program that asks user to enter a city name and it should tell which country the city belongs to\n",
    "* Write a program that asks user to enter two cities and it tells you if they both are in same country or not. For example if I enter mumbai and chennai, it will print \"Both cities are in India\" but if I enter mumbai and dhaka it should print \"They don't belong to same country\"\n",
    "* Q2) Write a python program that can tell you if your sugar is normal or not. Normal fasting level sugar range is 80 to 100.\n",
    "* Ask user to enter his fasting sugar level\n",
    "* If it is below 80 to 100 range then print that sugar is low\n",
    "* If it is above 100 then print that it is high otherwise print that it is normal"
   ]
  },
  {
   "cell_type": "code",
   "execution_count": 15,
   "id": "68d9ba2b",
   "metadata": {},
   "outputs": [
    {
     "name": "stdout",
     "output_type": "stream",
     "text": [
      "Enter the City name you want to travel: karachi\n",
      "This city belongs to Pakistan\n"
     ]
    }
   ],
   "source": [
    "# Q1 (i)\n",
    "\n",
    "city_name = input(\"Enter the City name you want to travel: \")\n",
    "city_name = city_name.lower()\n",
    "india = [\"mumbai\", \"banglore\", \"chennai\", \"delhi\"]\n",
    "pakistan = [\"lahore\",\"karachi\",\"islamabad\"]\n",
    "bangladesh = [\"dhaka\", \"khulna\", \"rangpur\"]\n",
    "if city_name in india:\n",
    "    print(\"This city belongs to India\")\n",
    "elif city_name in pakistan:\n",
    "    print(\"This city belongs to Pakistan\")\n",
    "elif city_name in bangladesh:\n",
    "    print(\"This city belongs to bangladeh\")\n",
    "else: {\n",
    "   print(\"This city is not in the list\")\n",
    "}"
   ]
  },
  {
   "cell_type": "code",
   "execution_count": 16,
   "id": "64fbb92c",
   "metadata": {},
   "outputs": [
    {
     "name": "stdout",
     "output_type": "stream",
     "text": [
      "Enter the first Citykarachi\n",
      "Enter the second citylkara\n",
      "Both did not belong to same country \n"
     ]
    }
   ],
   "source": [
    "# Q1(ii)\n",
    "city_name1=input(\"Enter the first City\")\n",
    "city_name2=input(\"Enter the second city\")\n",
    "city_name1 = city_name1.lower()\n",
    "city_name2 = city_name2.lower()\n",
    "india = [\"mumbai\", \"banglore\", \"chennai\", \"delhi\"]\n",
    "pakistan = [\"lahore\",\"karachi\",\"islamabad\"]\n",
    "bangladesh = [\"dhaka\", \"khulna\", \"rangpur\"]\n",
    "\n",
    "if(city_name1 in india and city_name2 in india):\n",
    "    print(\"They both belongs to same country \")\n",
    "elif(city_name1 in pakistan and city_name2 in pakistan):\n",
    "    print(\"They both belongs to same country \")\n",
    "elif(city_name1 in bangladesh and city_name2 in bangladesh):\n",
    "    print(\"They both belongs to same country \")\n",
    "else:\n",
    "    print(\"Both did not belong to same country \")"
   ]
  },
  {
   "cell_type": "code",
   "execution_count": 17,
   "id": "81330967",
   "metadata": {},
   "outputs": [
    {
     "name": "stdout",
     "output_type": "stream",
     "text": [
      "Enter your sugar level44\n",
      "It is normal\n"
     ]
    }
   ],
   "source": [
    "# Q2) \n",
    "sugar_level=int(input(\"Enter your sugar level\"))\n",
    "if (sugar_level>=80 and sugar_level<=100):\n",
    "    print(\"Sugar is low\")\n",
    "elif(sugar_level>=100):\n",
    "    print(\"Sugar is high\")\n",
    "else:\n",
    "    print(\"It is normal\")"
   ]
  },
  {
   "cell_type": "markdown",
   "id": "6c5e2f76",
   "metadata": {},
   "source": [
    "## Exercise 09\n"
   ]
  },
  {
   "cell_type": "markdown",
   "id": "678f3ef8",
   "metadata": {},
   "source": [
    "* Exercise: Python for loop\n",
    "* After flipping a coin 10 times you got this result,\n",
    "* result = [\"heads\",\"tails\",\"tails\",\"heads\",\"tails\",\"heads\",\"heads\",\"tails\",\"tails\",\"tails\"]\n",
    "* Using for loop figure out how many times you got heads\n",
    "\n",
    "* Print square of all numbers between 1 to 10 except even numbers\n",
    "* Your monthly expense list (from Jan to May) looks like this,\n",
    "* expense_list = [2340, 2500, 2100, 3100, 2980]\n",
    "* Write a program that asks you to enter an expense amount and program should tell you in which month that expense occurred. If   expense is not found then it should print that as well.\n",
    "\n",
    "* Lets say you are running a 5 km race. Write a program that,\n",
    "\n",
    "* Upon completing each 1 km asks you \"are you tired?\"\n",
    "* If you reply \"yes\" then it should break and print \"you didn't finish the race\"\n",
    "* If you reply \"no\" then it should continue and ask \"are you tired\" on every km\n",
    "* If you finish all 5 km then it should print congratulations message\n",
    "* Write a program that prints following shape\n",
    "\n",
    "* '   *   '\n",
    "* '   **  '\n",
    "* '   ***  '\n",
    "* '   ****  '\n",
    "* '   ***** '"
   ]
  },
  {
   "cell_type": "code",
   "execution_count": 18,
   "id": "9ca26d3b",
   "metadata": {},
   "outputs": [
    {
     "name": "stdout",
     "output_type": "stream",
     "text": [
      "4\n"
     ]
    }
   ],
   "source": [
    "# Qs 1\n",
    "result = [\"heads\",\"tails\",\"tails\",\"heads\",\"tails\",\"heads\",\"heads\",\"tails\",\"tails\",\"tails\"]\n",
    "count = 0\n",
    "for i in result:\n",
    "    if i==\"heads\":\n",
    "        count += 1\n",
    "print(count)\n",
    "\n",
    "\n",
    "    \n"
   ]
  },
  {
   "cell_type": "code",
   "execution_count": 19,
   "id": "f50bd6fa",
   "metadata": {},
   "outputs": [
    {
     "name": "stdout",
     "output_type": "stream",
     "text": [
      "1\n",
      "9\n",
      "25\n",
      "49\n",
      "81\n"
     ]
    }
   ],
   "source": [
    "# Q2) Print square of all numbers between 1 to 10 except even numbers\n",
    "for i in range(1,11):\n",
    "    if i%2!=0:\n",
    "        print(i**2)\n",
    "        "
   ]
  },
  {
   "cell_type": "code",
   "execution_count": 20,
   "id": "4f43f8e0",
   "metadata": {},
   "outputs": [
    {
     "name": "stdout",
     "output_type": "stream",
     "text": [
      "1\n",
      "9\n",
      "25\n",
      "49\n",
      "81\n"
     ]
    }
   ],
   "source": [
    "# Q2) Print square of all numbers between 1 to 10 except even numbers # Another Method\n",
    "for i in range(10):\n",
    "    if i%2==0:\n",
    "        continue\n",
    "    print(i*i)\n",
    "        "
   ]
  },
  {
   "cell_type": "markdown",
   "id": "245cb53d",
   "metadata": {},
   "source": [
    "#### Q3)expense_list = [2340, 2500, 2100, 3100, 2980]\n",
    "\n",
    "#### Write a program that asks you to enter an expense amount and program should tell you in which month that expense occurred. If expense is not found then it should print that as well."
   ]
  },
  {
   "cell_type": "code",
   "execution_count": 21,
   "id": "b7b843e3",
   "metadata": {},
   "outputs": [
    {
     "name": "stdout",
     "output_type": "stream",
     "text": [
      "Enter your expenses34\n",
      "Expense of 34 not found in any month.\n"
     ]
    }
   ],
   "source": [
    "expense_list = [2340, 2500, 2100, 3100, 2980]\n",
    "month_list = [\"January\", \"February\", \"March\", \"April\", \"May\"]\n",
    "expense_amount=int(input(\"Enter your expenses\"))\n",
    "found = False \n",
    "for i in range(len(expense_list)):\n",
    "    if expense_list[i]==expense_amount :\n",
    "        print(f\"You spent {expense_amount}in {month_list[i]}\")\n",
    "        found = True\n",
    "if not found :\n",
    "    print(f\"Expense of {expense_amount} not found in any month.\")\n"
   ]
  },
  {
   "cell_type": "markdown",
   "id": "43483a6f",
   "metadata": {},
   "source": [
    "Q4) Lets say you are running a 5 km race. Write a program that,\n",
    "\n",
    "Upon completing each 1 km asks you \"are you tired?\"\n",
    "\n",
    "If you reply \"yes\" then it should break and print \"you didn't finish the race\"\n",
    "\n",
    "If you reply \"no\" then it should continue and ask \"are you tired\" on every km\n",
    "\n",
    "If you finish all 5 km then it should print congratulations message"
   ]
  },
  {
   "cell_type": "code",
   "execution_count": 22,
   "id": "902795f5",
   "metadata": {},
   "outputs": [
    {
     "name": "stdout",
     "output_type": "stream",
     "text": [
      "You run 1 miles\n",
      "Are you tired: yes\n",
      "You didnot finish the race \n"
     ]
    }
   ],
   "source": [
    "for i in range(1,5):\n",
    "    print(f\"You run {i} miles\")\n",
    "    tired=input(\"Are you tired: \")\n",
    "    if (tired ==\"yes\"):\n",
    "        print(\"You didnot finish the race \")\n",
    "        break \n",
    "        \n",
    "    if(i==4):\n",
    "        print(\"CONg\")\n",
    "    elif(tired==\"no\"):\n",
    "        continue\n",
    "        "
   ]
  },
  {
   "cell_type": "markdown",
   "id": "458edeac",
   "metadata": {},
   "source": [
    "Q5) Write a program that prints following shape\n",
    "\n",
    "' * '\n",
    "\n",
    "' ** '\n",
    "\n",
    "' *** '\n",
    "\n",
    "' **** '\n",
    "\n",
    "' ***** '"
   ]
  },
  {
   "cell_type": "code",
   "execution_count": 23,
   "id": "a4913488",
   "metadata": {},
   "outputs": [
    {
     "name": "stdout",
     "output_type": "stream",
     "text": [
      "\n",
      "*\n",
      "**\n",
      "***\n",
      "****\n",
      "*****\n"
     ]
    }
   ],
   "source": [
    "for i in range(6):\n",
    "    s=\"\"\n",
    "    for j in range(i):\n",
    "        s +=\"*\"\n",
    "    print(s)"
   ]
  },
  {
   "cell_type": "markdown",
   "id": "75bf3c4f",
   "metadata": {},
   "source": [
    "## Exercise10: Functions in python\n",
    "* Q1) Write a function called calculate_area that takes base and height as an input and returns and area of a triangle. Equation   of  an area of a triangle is,\n",
    "* area = (1/2)*base*height\n",
    "* Q2) Modify above function to take third parameter shape type. It can be either \"triangle\" or \"rectangle\". Based on shape type   it will calculate area. Equation of rectangle's area is,\n",
    "* rectangle area=length*width\n",
    "* If no shape is supplied then it should take triangle as a default shape\n",
    "\n",
    "* Q3) Write a function called print_pattern that takes integer number as an argument and prints following pattern if input number is 3,\n",
    "* \"*\"\n",
    "* \"**\"\n",
    "* \"***\"\n",
    "* if input is 4 then it should print\n",
    "\n",
    "* \"*\"\n",
    "* \"**\"\n",
    "* \"***\"\n",
    "* \"****\"\n",
    "* Basically number of lines it prints is equal to that number. (Hint: you need to use two for loops)"
   ]
  },
  {
   "cell_type": "code",
   "execution_count": 24,
   "id": "d11ccd9c",
   "metadata": {},
   "outputs": [
    {
     "data": {
      "text/plain": [
       "10.0"
      ]
     },
     "execution_count": 24,
     "metadata": {},
     "output_type": "execute_result"
    }
   ],
   "source": [
    "# Question 01\n",
    "def calculate_area(base,height):\n",
    "    area = (1/2)*base*height\n",
    "    return area \n",
    "calculate_area(5,4)"
   ]
  },
  {
   "cell_type": "code",
   "execution_count": 25,
   "id": "4a9f35dc",
   "metadata": {},
   "outputs": [
    {
     "name": "stdout",
     "output_type": "stream",
     "text": [
      "20\n",
      "10.0\n",
      "10.0\n"
     ]
    }
   ],
   "source": [
    "# Question 02\n",
    "def calculate_area_shape(base,height,shape):\n",
    "    shape=shape.lower()\n",
    "    if (shape == \"rectangle\"):\n",
    "        area=base*height\n",
    "    elif(shape == \"triangle\"):\n",
    "        area = (1/2)*base*height\n",
    "    else:\n",
    "        print(\"write correct name of shape\")\n",
    "    return area \n",
    "print(calculate_area_shape(4,5,\"rectangle\"))\n",
    "print(calculate_area_shape(4,5,\"triangle\"))\n",
    "print(calculate_area_shape(4,5,\"TRIANGLE\"))\n"
   ]
  },
  {
   "cell_type": "code",
   "execution_count": 26,
   "id": "5722f37c",
   "metadata": {},
   "outputs": [
    {
     "name": "stdout",
     "output_type": "stream",
     "text": [
      "*\n",
      "**\n",
      "***\n",
      "****\n",
      "*\n",
      "**\n",
      "***\n"
     ]
    }
   ],
   "source": [
    "# Question 03\n",
    "def print_pattern(num1):\n",
    "    num1=int(num1)\n",
    "    for i in range(num1):\n",
    "        s=\"\"\n",
    "        for j in range(i+1):\n",
    "            s += \"*\"\n",
    "        print(s)\n",
    "print_pattern(4)\n",
    "print_pattern(3)"
   ]
  },
  {
   "cell_type": "markdown",
   "id": "7c7f8490",
   "metadata": {},
   "source": [
    "## Exercise 11 \n",
    "* 1)  We have following information on countries and their population (population is in crores),\n",
    "\n",
    "* Country\tPopulation\n",
    "* China\t143\n",
    "* India\t136\n",
    "* USA\t32\n",
    "* Pakistan\t21\n",
    "* Using above create a dictionary of countries and its population\n",
    "* Write a program that asks user for three type of inputs,\n",
    "* print: if user enter print then it should print all countries with their population in this format,\n",
    "* china==>143\n",
    "* india==>136\n",
    "* usa==>32\n",
    "* pakistan==>21\n",
    "* add: if user input add then it should further ask for a country name to add. If country already exist in our dataset then it     should print that it exist and do nothing. If it doesn't then it asks for population and add that new country/population in     our dictionary and print it\n",
    "* remove: when user inputs remove it should ask for a country to remove. If country exist in our dictionary then remove it and     print new dictionary using format shown above in (a). Else print that country doesn't exist!\n",
    "* query: on this again ask user for which country he or she wants to query. When user inputs that country it will print           population of that country.\n",
    "\n",
    "* 2)You are given following list of stocks and their prices in last 3 days,\n",
    "\n",
    "* Stock\tPrices\n",
    "* info\t[600,630,620]\n",
    "* ril\t[1430,1490,1567]\n",
    "* mtl\t[234,180,160]\n",
    "* Write a program that asks user for operation. Value of operations could be,\n",
    "* print: When user enters print it should print following,\n",
    "* info ==> [600, 630, 620] ==> avg:  616.67\n",
    "* ril ==> [1430, 1490, 1567] ==> avg:  1495.67\n",
    "* mtl ==> [234, 180, 160] ==> avg:  191.33\n",
    "* add: When user enters 'add', it asks for stock ticker and price. If stock already exist in your list (like info, ril etc) then   it will append the price to the list. Otherwise it will create new entry in your dictionary. For example entering 'tata' and     560 will add tata ==> [560] to the dictionary of stocks.\n",
    "* 3) Write circle_calc() function that takes radius of a circle as an input from user and then it calculates and returns area,      circumference and diameter. You should get these values in your main program by calling circle_calc function and then print them"
   ]
  },
  {
   "cell_type": "code",
   "execution_count": 27,
   "id": "bd1f74e4",
   "metadata": {},
   "outputs": [
    {
     "name": "stdout",
     "output_type": "stream",
     "text": [
      "Enter the function you want to perform: print\n",
      "china => 143\n",
      "india => 136\n",
      "usa => 32\n",
      "pakistan => 21\n"
     ]
    }
   ],
   "source": [
    "# Question 01\n",
    "\n",
    "population = {\n",
    "    \"china\":143,\n",
    "    \"india\":136,\n",
    "    \"usa\":32,\n",
    "    \"pakistan\":21\n",
    "}\n",
    "def print_all():\n",
    "    for country,i in population.items():\n",
    "        print(f'{country} => {i}')\n",
    "\n",
    "def add_all():\n",
    "    country= input(\"Enter the country you want to add: \").lower()\n",
    "    country=country.lower()\n",
    "    if country in population:\n",
    "        print (\"This country already exits in this list \")\n",
    "    else:\n",
    "        country_population=float(input(\"Enter the population of country\"))\n",
    "        population[country]=country_population\n",
    "        return print_all()\n",
    "#(add_all())\n",
    "\n",
    "def remove():\n",
    "    country=input(\"Enter the country you want to remove: \").lower() \n",
    "    if country in population:\n",
    "        del population[country]\n",
    "        print_all()\n",
    "    else:\n",
    "        print(\"The country you entered does not exist \")\n",
    "        print_all()\n",
    "# remove()  \n",
    "\n",
    "def query():\n",
    "    query_input=input(\"Enter your query\").lower()\n",
    "    if query_input in population :\n",
    "        print(f'{population[query_input]} crore')\n",
    "    else:\n",
    "        return \"This country does not exist \"\n",
    "# query()\n",
    "\n",
    "def main ():\n",
    "    user_input=input(\"Enter the function you want to perform: \").lower()\n",
    "    if user_input==\"print\":\n",
    "        print_all()\n",
    "    elif user_input==\"add\":\n",
    "        add_all()\n",
    "    elif user_input==\"remove\":\n",
    "        remove()\n",
    "    elif user_input==\"query\":\n",
    "        query()\n",
    "    else:\n",
    "        print(\"plz enter correct function\")\n",
    "    \n",
    "main()"
   ]
  },
  {
   "cell_type": "code",
   "execution_count": 28,
   "id": "ff54edb6",
   "metadata": {},
   "outputs": [
    {
     "name": "stdout",
     "output_type": "stream",
     "text": [
      "Enter the operation you want to performpirn\n"
     ]
    }
   ],
   "source": [
    "# Q2\n",
    "\n",
    "stocks = {\n",
    "    \"info\":[600,630,620],\n",
    "    \"ril\":[1430,1490,1567],\n",
    "    \"mtl\":[234,180,160]\n",
    "}\n",
    "def stocks_operation():\n",
    "    user_input=input(\"Enter the operation you want to perform\").lower()\n",
    "    if user_input==\"print\":\n",
    "        for stock,prices in stocks.items():\n",
    "            mean=sum(prices)/len(prices)\n",
    "            mean_rounded=round(mean,2)\n",
    "            print(f'{stock} ==> {prices} ==>  {mean_rounded}')\n",
    "    elif user_input==\"add\":\n",
    "        stock_name=input(\"Enter the stock name\").lower()\n",
    "        stock_price=float(input(\"Enter the stocks price\"))\n",
    "        if stock_name in stocks:\n",
    "            stocks[stock_name].append(stock_price)\n",
    "            for stock,prices in stocks.items():\n",
    "                mean=sum(prices)/len(prices)\n",
    "                mean_rounded=round(mean,2)\n",
    "                print(f'{stock} ==> {prices} ==>  {mean_rounded}')\n",
    "        elif stock_name not in stocks:\n",
    "            stocks[stock_name]=[stock_price]\n",
    "            for stock,prices in stocks.items():\n",
    "                mean=sum(prices)/len(prices)\n",
    "                mean_rounded=round(mean,2)\n",
    "                print(f'{stock} ==> {prices} ==>  {mean_rounded}')\n",
    "stocks_operation()\n"
   ]
  },
  {
   "cell_type": "markdown",
   "id": "e4c07dab",
   "metadata": {},
   "source": [
    "Question 03\n",
    "*  Write circle_calc() function that takes radius of a circle as an input from user and then it calculates and returns area,        circumference and diameter. You should get these values in your main program by calling circle_calc function and then print them"
   ]
  },
  {
   "cell_type": "code",
   "execution_count": 29,
   "id": "f651678a",
   "metadata": {},
   "outputs": [
    {
     "data": {
      "text/plain": [
       "(78.55, 31.419999999999998, 10)"
      ]
     },
     "execution_count": 29,
     "metadata": {},
     "output_type": "execute_result"
    }
   ],
   "source": [
    "def circle_calc(radius):\n",
    "    area = 3.142*radius**2;\n",
    "    circumference = 2*3.142*radius\n",
    "    diameter = 2*radius\n",
    "    return area,circumference,diameter\n",
    "circle_calc(5)"
   ]
  },
  {
   "cell_type": "markdown",
   "id": "cbe09ef3",
   "metadata": {},
   "source": [
    "# Exercise 13 File Handling\n",
    "* Take qs from github directly"
   ]
  },
  {
   "cell_type": "markdown",
   "id": "0ac2e212",
   "metadata": {},
   "source": [
    "Q1) poem.txt contains famous poem \"Road not taken\" by poet Robert Frost. You have to read this file in your python program and find out words with maximum occurance."
   ]
  },
  {
   "cell_type": "code",
   "execution_count": 30,
   "id": "421348c9",
   "metadata": {},
   "outputs": [
    {
     "name": "stdout",
     "output_type": "stream",
     "text": [
      "{'Two': 2, 'roads': 2, 'diverged': 2, 'in': 3, 'a': 3, 'yellow': 1, 'wood,\\n': 1, 'And': 6, 'sorry': 1, 'I': 8, 'could': 1, 'not': 1, 'travel': 1, 'both\\n': 1, 'be': 2, 'one': 3, 'traveler,': 1, 'long': 1, 'stood\\n': 1, 'looked': 1, 'down': 1, 'as': 5, 'far': 1, 'could\\n': 1, 'To': 1, 'where': 1, 'it': 2, 'bent': 1, 'the': 8, 'undergrowth;\\n': 1, '\\n': 3, 'Then': 1, 'took': 2, 'other,': 1, 'just': 1, 'fair,\\n': 1, 'having': 1, 'perhaps': 1, 'better': 1, 'claim,\\n': 1, 'Because': 1, 'was': 1, 'grassy': 1, 'and': 3, 'wanted': 1, 'wear;\\n': 1, 'Though': 1, 'for': 2, 'that': 3, 'passing': 1, 'there\\n': 1, 'Had': 1, 'worn': 1, 'them': 1, 'really': 1, 'about': 1, 'same,\\n': 1, 'both': 1, 'morning': 1, 'equally': 1, 'lay\\n': 1, 'In': 1, 'leaves': 1, 'no': 1, 'step': 1, 'had': 1, 'trodden': 1, 'black.\\n': 1, 'Oh,': 1, 'kept': 1, 'first': 1, 'another': 1, 'day!\\n': 1, 'Yet': 1, 'knowing': 1, 'how': 1, 'way': 1, 'leads': 1, 'on': 1, 'to': 1, 'way,\\n': 1, 'doubted': 1, 'if': 1, 'should': 1, 'ever': 1, 'come': 1, 'back.\\n': 1, 'shall': 1, 'telling': 1, 'this': 1, 'with': 1, 'sigh\\n': 1, 'Somewhere': 1, 'ages': 2, 'hence:\\n': 1, 'wood,': 1, 'Iâ€”\\n': 1, 'less': 1, 'traveled': 1, 'by,\\n': 1, 'has': 1, 'made': 1, 'all': 1, 'difference.': 1}\n",
      "[2, 2, 2, 3, 3, 1, 1, 6, 1, 8, 1, 1, 1, 1, 2, 3, 1, 1, 1, 1, 1, 5, 1, 1, 1, 1, 2, 1, 8, 1, 3, 1, 2, 1, 1, 1, 1, 1, 1, 1, 1, 1, 1, 3, 1, 1, 1, 2, 3, 1, 1, 1, 1, 1, 1, 1, 1, 1, 1, 1, 1, 1, 1, 1, 1, 1, 1, 1, 1, 1, 1, 1, 1, 1, 1, 1, 1, 1, 1, 1, 1, 1, 1, 1, 1, 1, 1, 1, 1, 1, 1, 1, 1, 2, 1, 1, 1, 1, 1, 1, 1, 1, 1, 1]\n",
      "8\n",
      "The max occurence of 'I' are8\n",
      "The max occurence of 'the' are8\n"
     ]
    }
   ],
   "source": [
    "word_stats ={}\n",
    "with open(\"./File_Handling_Practice_files/poem.txt\") as f:\n",
    "    for line in f:\n",
    "        words=line.split(\" \")\n",
    "        for word in words:\n",
    "            if word in word_stats:\n",
    "                word_stats[word]+=1\n",
    "            else:\n",
    "                word_stats[word]=1\n",
    "print(word_stats)\n",
    "word_list=list(word_stats.values())\n",
    "print(word_list)\n",
    "max_occurence=max(word_list)\n",
    "print(max_occurence)\n",
    "for word,counts in word_stats.items():\n",
    "    if max_occurence==counts:\n",
    "        print(f\"The max occurence of '{word}' are{counts}\")"
   ]
  },
  {
   "cell_type": "markdown",
   "id": "6a54d219",
   "metadata": {},
   "source": [
    "## Question 02 "
   ]
  },
  {
   "cell_type": "code",
   "execution_count": 31,
   "id": "d1dafca6",
   "metadata": {},
   "outputs": [],
   "source": [
    "with open(\"./File_Handling_Practice_files/stocks.txt\") as f ,open(\"./File_Handling_Practice_files/output.csv\", mode=\"w\")as out:\n",
    "    out.write(\"Company Name,PE Ratio,PB Ratio\\n\")\n",
    "    next(f)\n",
    "    for line in f:\n",
    "        tokens=line.split(\",\")\n",
    "        company_name=tokens[0]\n",
    "        price=float(tokens[1])\n",
    "        eps=float(tokens[2])\n",
    "        bv=float(tokens[3])\n",
    "        pe_ratio=float(price/eps)\n",
    "        price_to_book_value=float(price/bv)\n",
    "        out.write(f\"{company_name},{pe_ratio},{price_to_book_value}\\n\")"
   ]
  },
  {
   "cell_type": "markdown",
   "id": "d4e487f5",
   "metadata": {},
   "source": [
    "## Exercise 16 Class And Objects (OOP)\n",
    "* Create a sample class named Employee with two attributes id and name\n",
    "* employee :\n",
    "    id\n",
    "    name\n",
    "* object initializes id and name dynamically for every Employee object created.\n",
    "\n",
    "* emp = Employee(1, \"coder\")\n",
    "* Use del property to first delete id attribute and then the entire object"
   ]
  },
  {
   "cell_type": "code",
   "execution_count": 32,
   "id": "6f0595e9",
   "metadata": {},
   "outputs": [
    {
     "name": "stdout",
     "output_type": "stream",
     "text": [
      "Employee id is 1 and name is coder\n"
     ]
    }
   ],
   "source": [
    "## Q1 \n",
    "class Employee():\n",
    "    def __init__(self,id1,name):\n",
    "        self.id=id1\n",
    "        self.name=name\n",
    "    def display(self):\n",
    "        print(f'Employee id is {self.id} and name is {self.name}')\n",
    "emp=Employee(1,\"coder\")\n",
    "emp.display()\n",
    "\n"
   ]
  },
  {
   "cell_type": "code",
   "execution_count": 33,
   "id": "713e727b",
   "metadata": {},
   "outputs": [
    {
     "name": "stdout",
     "output_type": "stream",
     "text": [
      "Employee id is 1 and name is coder\n",
      "Employee id is 2 and name is Programmer\n",
      "<class 'AttributeError'>\n"
     ]
    }
   ],
   "source": [
    "## Q2\n",
    "\n",
    "class Employee():\n",
    "    def __init__(self,id1,name):\n",
    "        self.id=id1\n",
    "        self.name=name\n",
    "    def display(self):\n",
    "        print(f'Employee id is {self.id} and name is {self.name}')\n",
    "emp=Employee(1,\"coder\")\n",
    "emp2=Employee(2,\"Programmer\")\n",
    "emp.display()\n",
    "emp2.display()\n",
    "\n",
    "del emp.id\n",
    "\n",
    "try:\n",
    "    print(emp.id)\n",
    "except AttributeError:\n",
    "    print(AttributeError)\n"
   ]
  },
  {
   "cell_type": "markdown",
   "id": "e0217401",
   "metadata": {},
   "source": [
    "## Exercise17: Inheritance\n",
    "* create inheritance using animal Dog relation.\n",
    "* for example, \n",
    "    Animal and Dog both has same habitat so create a method for habitat \n",
    "* use super() constructor for calling parent constructor.\n",
    "* class Animal:\n",
    "    #code\n",
    "\n",
    "* class Dog(Animal):\n",
    "    super()-it refers Animal class,now you can call Animal's methods."
   ]
  },
  {
   "cell_type": "code",
   "execution_count": 34,
   "id": "e70f340a",
   "metadata": {},
   "outputs": [],
   "source": [
    "class Animal():\n",
    "    def __init__(self,habitat):\n",
    "        self.habitat=habitat\n",
    "    def bark(self,words):\n",
    "        self.words=words\n",
    "\n",
    "class Dog(Animal):\n",
    "    def __init__(self,habitat,sleep):\n",
    "        super().__init__(habitat)\n",
    "        self.sleep=sleep\n"
   ]
  },
  {
   "cell_type": "code",
   "execution_count": 35,
   "id": "f0bd712a",
   "metadata": {},
   "outputs": [
    {
     "name": "stdout",
     "output_type": "stream",
     "text": [
      "{'habitat': 'Forest'}\n",
      "{'habitat': 'Forest', 'words': 'bahu'}\n",
      "{'habitat': 'city', 'sleep': 'peacefully'}\n"
     ]
    }
   ],
   "source": [
    "a1=Animal(\"Forest\")\n",
    "print(vars(a1))\n",
    "a1.bark(\"bahu\")\n",
    "print(vars(a1))\n",
    "d1=Dog(\"city\",\"peacefully\")\n",
    "print(vars(d1))\n",
    "d1.bark(\"bahu1\")"
   ]
  },
  {
   "cell_type": "code",
   "execution_count": 36,
   "id": "37554491",
   "metadata": {},
   "outputs": [
    {
     "name": "stdout",
     "output_type": "stream",
     "text": [
      "bark\n",
      "habitat\n",
      "sleep\n",
      "words\n"
     ]
    }
   ],
   "source": [
    "for i in dir(d1):\n",
    "    if \"_\" not in i:\n",
    "        print(i)"
   ]
  },
  {
   "cell_type": "code",
   "execution_count": 37,
   "id": "4efe1399",
   "metadata": {},
   "outputs": [
    {
     "name": "stdout",
     "output_type": "stream",
     "text": [
      "bark\n",
      "habitat\n",
      "words\n"
     ]
    }
   ],
   "source": [
    "for i in dir(a1):\n",
    "    if \"_\" not in i:\n",
    "        print(i)"
   ]
  },
  {
   "cell_type": "markdown",
   "id": "86b9b85a",
   "metadata": {},
   "source": [
    "## Exercise18: Multiple Inheritance\n",
    "* Real Life Example :\n",
    "\n",
    "* Q 1) Create multiple inheritance on teacher,student and youtuber.\n",
    "* Q 2). if we have created teacher and now one student joins master degree with becoming teacher then what??\n",
    "\n",
    "* Ans :  just make subclass from  teacher so that student will become teacher\n",
    "* Now student is teacher as well as youtuber then what???\n",
    "* -just use multiple inheritance for these three relations\n"
   ]
  },
  {
   "cell_type": "code",
   "execution_count": 38,
   "id": "83bd8636",
   "metadata": {},
   "outputs": [
    {
     "name": "stdout",
     "output_type": "stream",
     "text": [
      "{'name': 'raziq'}\n",
      "{'name': 'raziq', 'subject': 'Maths'}\n"
     ]
    }
   ],
   "source": [
    "# Q1\n",
    "class Person():\n",
    "    def __init__(self,name):\n",
    "        self.name=name\n",
    "class Teacher(Person):\n",
    "    def __init__(self,name,subject):\n",
    "        super().__init__(name)\n",
    "        self.subject=subject\n",
    "class Student(Person):\n",
    "    def __init__(self,name,classNo):\n",
    "        super().__init__(name)\n",
    "        self.classNo=classNo\n",
    "class Youtuber(Person):\n",
    "    def __init__(self,name,channelName):\n",
    "        super().__init__(name)\n",
    "        self.channelName=channelName\n",
    "        \n",
    "p1=Person(\"raziq\")\n",
    "print(vars(p1))\n",
    "\n",
    "t1=Teacher(\"raziq\",\"Maths\")\n",
    "print(vars(t1))"
   ]
  },
  {
   "cell_type": "code",
   "execution_count": 39,
   "id": "6093e8e6",
   "metadata": {},
   "outputs": [
    {
     "name": "stdout",
     "output_type": "stream",
     "text": [
      "I can code teach and youtube as well\n",
      "I can teach\n",
      "I can code\n",
      "I can code and teach\n"
     ]
    }
   ],
   "source": [
    "# Question 02\n",
    "class Teacher:\n",
    "    def teachers_action(self):\n",
    "        print(\"I can teach\")\n",
    "\n",
    "\n",
    "class Engineer:\n",
    "    def Engineers_action(self):\n",
    "        print(\"I can code\")\n",
    "\n",
    "\n",
    "class Youtuber:\n",
    "    def youtubers_action(self):\n",
    "        print(\"I can code and teach\")\n",
    "\n",
    "\n",
    "class Person(Teacher, Engineer, Youtuber):\n",
    "    print(\"I can code teach and youtube as well\")\n",
    "    pass\n",
    "\n",
    "\n",
    "\n",
    "coder = Person()\n",
    "coder.teachers_action()\n",
    "coder.Engineers_action()\n",
    "coder.youtubers_action()"
   ]
  },
  {
   "cell_type": "markdown",
   "id": "979d3fc2",
   "metadata": {},
   "source": [
    "## Exercise 19: Raise Exception And Finally\n",
    "* Create a custom exception AdultException.\n",
    "\n",
    "* Create a class Person with attributes name and age in it.\n",
    "\n",
    "* Create a function get_minor_age() in the class. It throws an exception if the person is adult otherwise returns age.\n",
    "\n",
    "* Create a function display_person() which prints the age and name of a person.\n",
    "\n",
    "* let us say,\n",
    "\n",
    "* if age>18 \n",
    "    he is major\n",
    "* else\n",
    "    raise exception\n",
    "\n",
    "* create cusomException named ismajor and raise it if age<18."
   ]
  },
  {
   "cell_type": "code",
   "execution_count": 40,
   "id": "0bf52572",
   "metadata": {},
   "outputs": [],
   "source": [
    "class AdultException(Exception):\n",
    "    pass\n",
    "class Person():\n",
    "    def __init__(self,name,age):\n",
    "        self.name=name\n",
    "        self.age=age\n",
    "    def get_minor_class(self):\n",
    "        if (self.age)>=18:\n",
    "            raise AdultException\n",
    "        else:\n",
    "            return self.age\n",
    "    def display_person(self):\n",
    "        try :\n",
    "            print(f\"{self.get_minor_class()}\")\n",
    "        except AdultException:\n",
    "            print(\"Person is an Adult\")\n",
    "        finally:\n",
    "            print(f'{self.name}')"
   ]
  },
  {
   "cell_type": "code",
   "execution_count": 41,
   "id": "23c22b7f",
   "metadata": {},
   "outputs": [
    {
     "name": "stdout",
     "output_type": "stream",
     "text": [
      "13\n",
      "razq\n"
     ]
    }
   ],
   "source": [
    "p1=Person(\"razq\",13)\n",
    "p1.display_person()"
   ]
  },
  {
   "cell_type": "markdown",
   "id": "6c2d4284",
   "metadata": {},
   "source": [
    "## Exercise21 : Generators\n",
    "Print Square Sequence using yield"
   ]
  },
  {
   "cell_type": "code",
   "execution_count": 42,
   "id": "67fbb54d",
   "metadata": {},
   "outputs": [
    {
     "name": "stdout",
     "output_type": "stream",
     "text": [
      "1\n",
      "4\n",
      "9\n",
      "16\n",
      "25\n"
     ]
    }
   ],
   "source": [
    "def square():\n",
    "    i=1\n",
    "    while True:\n",
    "       yield i*i\n",
    "       i +=1\n",
    "for i in square():\n",
    "    if i>25:\n",
    "        break\n",
    "    print(i)"
   ]
  },
  {
   "cell_type": "markdown",
   "id": "741194e3",
   "metadata": {},
   "source": [
    "## Example 22:List Set and Dictionery\n",
    "* 1) Create a Dictionary which contains the Binary values mapping with numbers found in the below integer and binary and save it   in binary_dict.\n",
    "* Example :\n",
    "\n",
    "    integer = [0, 1, 2, 3, 4]\n",
    "    binary = [\"0\", \"1\", \"10\", \"11\", \"100\"]\n",
    "    binary_dict = {0:\"0\", 1:\"1\", 2:\"10\", 3: \"11\", 4:\"100\"}\n",
    "* 2) Create a List which contains additive inverse of a given integer list. An additive inverse a for an integer i is a number      such that:\n",
    "* a + i = 0\n",
    "* Example:\n",
    "\n",
    "* integer = [1, -1, 2, 3, 5, 0, -7]\n",
    "* additive_inverse = [-1, 1, -2, -3, -5, 0, 7]\n",
    "* 3) Create a set which only contains unique sqaures from a given a integer list.\n",
    "* integer = [1, -1, 2, -2, 3, -3]\n",
    "* sq_set = {1, 4, 9}"
   ]
  },
  {
   "cell_type": "code",
   "execution_count": 43,
   "id": "dc32c662",
   "metadata": {},
   "outputs": [
    {
     "name": "stdout",
     "output_type": "stream",
     "text": [
      "[0, 1, 2, 3, 4]\n",
      "['0' '1' '10' '11' '100']\n",
      "{0: '0', 1: '1', 2: '10', 3: '11', 4: '100'}\n"
     ]
    }
   ],
   "source": [
    "# Q1\n",
    "integer = [0, 1, 2, 3, 4]\n",
    "import numpy as np\n",
    "binary_array = np.array([bin(x)[2:] for x in integer])\n",
    "print(integer)\n",
    "print(binary_array)\n",
    "dictionary = dict(zip(integer, binary_array))\n",
    "print(dictionary)\n"
   ]
  },
  {
   "cell_type": "code",
   "execution_count": 49,
   "id": "11654572",
   "metadata": {},
   "outputs": [
    {
     "name": "stdout",
     "output_type": "stream",
     "text": [
      "[0, 1, 2, 3, 4]\n",
      "[0, -1, -2, -3, -4]\n"
     ]
    }
   ],
   "source": [
    "# Q2\n",
    "integer = [0, 1, 2, 3, 4] \n",
    "additive_inverse=[-i for i in integer]\n",
    "print(integer)\n",
    "print(additive_inverse)"
   ]
  },
  {
   "cell_type": "code",
   "execution_count": 59,
   "id": "3bfcb172",
   "metadata": {},
   "outputs": [
    {
     "name": "stdout",
     "output_type": "stream",
     "text": [
      "[1, 4, 9]\n"
     ]
    }
   ],
   "source": [
    "# Q3 \n",
    "integer = [1, -1, 2, -2, 3, -3]\n",
    "squared=[i*i for i in integer if i>0]\n",
    "print(squared)"
   ]
  },
  {
   "cell_type": "markdown",
   "id": "b96feb50",
   "metadata": {},
   "source": [
    "## Exercise 23 : Sets and Frozen Sets\n",
    "* 1) create any set and try to use frozenset(setname)\n",
    "\n",
    "* 2) Find the elements in a given set that are not in another set\n",
    "\n",
    "    set1 = {1,2,3,4,5}\n",
    "    set2 = {4,5,6,7,8}\n",
    "\n",
    "    diffrence between set1 and set2 is {1,2,3}"
   ]
  },
  {
   "cell_type": "code",
   "execution_count": 66,
   "id": "7428707f",
   "metadata": {},
   "outputs": [
    {
     "name": "stdout",
     "output_type": "stream",
     "text": [
      "frozenset({1, 2, 34, 5, 6, 8})\n"
     ]
    },
    {
     "data": {
      "text/plain": [
       "{1, 2, 3}"
      ]
     },
     "execution_count": 66,
     "metadata": {},
     "output_type": "execute_result"
    }
   ],
   "source": [
    "# Q1\n",
    "numbers=[1,2,34,5,6,8]\n",
    "frozent_sets=frozenset(numbers)\n",
    "print(frozent_sets)\n",
    "dir(frozent_sets)\n",
    "# Q2\n",
    "set1 = {1,2,3,4,5}\n",
    "set2 = {4,5,6,7,8}\n",
    "set1.difference(set2)"
   ]
  },
  {
   "cell_type": "code",
   "execution_count": null,
   "id": "b73055d6",
   "metadata": {},
   "outputs": [],
   "source": []
  }
 ],
 "metadata": {
  "kernelspec": {
   "display_name": "Python 3 (ipykernel)",
   "language": "python",
   "name": "python3"
  },
  "language_info": {
   "codemirror_mode": {
    "name": "ipython",
    "version": 3
   },
   "file_extension": ".py",
   "mimetype": "text/x-python",
   "name": "python",
   "nbconvert_exporter": "python",
   "pygments_lexer": "ipython3",
   "version": "3.9.13"
  }
 },
 "nbformat": 4,
 "nbformat_minor": 5
}
