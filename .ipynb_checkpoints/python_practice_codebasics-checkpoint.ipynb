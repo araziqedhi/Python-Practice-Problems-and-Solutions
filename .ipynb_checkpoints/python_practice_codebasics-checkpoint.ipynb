{
 "cells": [
  {
   "cell_type": "markdown",
   "id": "12e5c099",
   "metadata": {},
   "source": [
    "## Exercise 2 : Python Variables\n",
    "* 1) Create a variable called break and assign it a value 5. See what happens and find out the reason behind the behavior that you see.\n",
    "\n",
    "* 2) Create two variables. One to store your birth year and another one to store current year. Now calculate your age using these two variables\n",
    "\n",
    "* 3) Store your first, middle and last name in three different variables and then print your full name using these variables\n",
    "\n",
    "* 4) Answer which of these are invalid variable names: _nation 1record record1 record_one record-one record^one continue "
   ]
  },
  {
   "cell_type": "code",
   "execution_count": 1,
   "id": "87f129bb",
   "metadata": {},
   "outputs": [],
   "source": [
    "# Qs 1\n",
    " # break = 5 This is not valid bcz break is reserved variable "
   ]
  },
  {
   "cell_type": "code",
   "execution_count": 2,
   "id": "f97c86e2",
   "metadata": {},
   "outputs": [
    {
     "name": "stdout",
     "output_type": "stream",
     "text": [
      "23\n"
     ]
    }
   ],
   "source": [
    "# Qs 2\n",
    "birth_year = 2000\n",
    "current_year = 2023\n",
    "age = current_year - birth_year\n",
    "print(age)"
   ]
  },
  {
   "cell_type": "code",
   "execution_count": 3,
   "id": "7a0872ab",
   "metadata": {},
   "outputs": [
    {
     "name": "stdout",
     "output_type": "stream",
     "text": [
      "Abdul Raziq Barkat Ali\n"
     ]
    }
   ],
   "source": [
    "# Qs 3\n",
    "first_name = \"Abdul\"\n",
    "Middle_name = \"Raziq\"\n",
    "Last_name = \"Barkat Ali\"\n",
    "Full_name = f'{first_name} {Middle_name} {Last_name}'\n",
    "print(Full_name)"
   ]
  },
  {
   "cell_type": "code",
   "execution_count": 4,
   "id": "697953c8",
   "metadata": {},
   "outputs": [],
   "source": [
    "# Qs 4\n"
   ]
  },
  {
   "cell_type": "markdown",
   "id": "9fc3da0a",
   "metadata": {},
   "source": [
    "## Exercise 3 : Numbers in python\n",
    "* 1) You have a football field that is 92 meter long and 48.8 meter wide. Find out total area using python and print it.\n",
    "* 2)You bought 9 packets of potato chips from a store. Each packet costs 1.49 dollar and you gave shopkeeper 20 dollar. Find out     using python, how many dollars is the shopkeeper going to give you back?\n",
    "* 3)You want to replace tiles in your bathroom which is exactly square and 5.5 feet is its length. If tiles cost 500 rs per square feet, how much will be the total cost to replace all tiles. Calculate and print the cost using python (Hint: Use power operator ** to find area of a square)\n",
    "* 4)Print binary representation of number 17"
   ]
  },
  {
   "cell_type": "code",
   "execution_count": 5,
   "id": "55e50e89",
   "metadata": {},
   "outputs": [
    {
     "name": "stdout",
     "output_type": "stream",
     "text": [
      "4489.599999999999\n"
     ]
    }
   ],
   "source": [
    "# 1) You have a football field that is 92 meter long and 48.8 meter wide. Find out total area using python and print it.\n",
    "l=92;\n",
    "b=48.8;\n",
    "A=l*b;\n",
    "print(A)"
   ]
  },
  {
   "cell_type": "markdown",
   "id": "519f625c",
   "metadata": {},
   "source": [
    "#### 2)You bought 9 packets of potato chips from a store. Each packet costs 1.49 dollar and you gave shopkeeper 20 dollar. Find out using python, how many dollars is the shopkeeper going to give you back?"
   ]
  },
  {
   "cell_type": "code",
   "execution_count": 6,
   "id": "2e1c91b5",
   "metadata": {},
   "outputs": [
    {
     "name": "stdout",
     "output_type": "stream",
     "text": [
      "6.59\n"
     ]
    }
   ],
   "source": [
    "packets = 9\n",
    "Each_cost= 1.49\n",
    "payment = 20\n",
    "return_payment = payment - (packets*Each_cost)\n",
    "print(return_payment)"
   ]
  },
  {
   "cell_type": "markdown",
   "id": "64cb1e25",
   "metadata": {},
   "source": [
    "3)You want to replace tiles in your bathroom which is exactly square and 5.5 feet is its length. If tiles cost 500 rs per square feet, how much will be the total cost to replace all tiles. Calculate and print the cost using python (Hint: Use power operator ** to find area of a square)"
   ]
  },
  {
   "cell_type": "code",
   "execution_count": 7,
   "id": "1b016d59",
   "metadata": {},
   "outputs": [
    {
     "name": "stdout",
     "output_type": "stream",
     "text": [
      "30.25\n",
      "15125.0\n"
     ]
    }
   ],
   "source": [
    "l=5.5\n",
    "cost=500\n",
    "Area=l**2\n",
    "print(Area)\n",
    "Total_cost=Area*cost\n",
    "print(Total_cost)"
   ]
  },
  {
   "cell_type": "markdown",
   "id": "51c47c95",
   "metadata": {},
   "source": [
    "4) Print binary representation of number 17"
   ]
  },
  {
   "cell_type": "code",
   "execution_count": 8,
   "id": "d80823d7",
   "metadata": {},
   "outputs": [
    {
     "name": "stdout",
     "output_type": "stream",
     "text": [
      "10001\n",
      "10110\n"
     ]
    }
   ],
   "source": [
    "print(format(17,\"b\"))\n",
    "print(format(22,\"b\"))"
   ]
  },
  {
   "cell_type": "markdown",
   "id": "b803fc5a",
   "metadata": {},
   "source": [
    "## Exercise 4: String in Python\n",
    "* 1) Create 3 variables to store street, city and country, now create address variable to store entire address. Use two ways of creating this variable, one using + operator and the other using f-string. Now Print the address in such a way that the street, city and country prints in a separate line\n",
    "* 2) Create a variable to store the string \"Earth revolves around the sun\"\n",
    "* 3) Print \"revolves\" using slice operator\n",
    "* 4) Print \"sun\" using negative index\n",
    "* 5) Create two variables to store how many fruits and vegetables you eat in a day. Now Print \"I eat x veggies and y fruits daily\" where x and y presents vegetables and fruits that you eat everyday. Use python f string for this.\n",
    "* 6) I have a string variable called s='maine 200 banana khaye'. This of course is a wrong statement, the correct statement is 'maine 10 samosa khaye'. Replace incorrect words in original strong with new ones and print the new string. Also try to do this in one line.\n"
   ]
  },
  {
   "cell_type": "markdown",
   "id": "d50e05ac",
   "metadata": {},
   "source": [
    "1) Create 3 variables to store street, city and country, now create address variable to store entire address. Use two ways of creating this variable, one using + operator and the other using f-string. Now Print the address in such a way that the street, city and country prints in a separate line"
   ]
  },
  {
   "cell_type": "code",
   "execution_count": 9,
   "id": "126f1973",
   "metadata": {},
   "outputs": [
    {
     "name": "stdout",
     "output_type": "stream",
     "text": [
      "1453\n",
      "Karachi\n",
      "Pakistan\n",
      "\n",
      "1453\n",
      "Karachi\n",
      "Pakistan\n"
     ]
    }
   ],
   "source": [
    "street = \"1453\"\n",
    "city = \"Karachi\"\n",
    "country = \"Pakistan\"\n",
    "Address = street +\"\\n\"+city+\"\\n\"+country+\"\\n\"\n",
    "print(Address)\n",
    "\n",
    "Address2= f\"{street}\\n{city}\\n{country}\"\n",
    "print(Address2)"
   ]
  },
  {
   "cell_type": "markdown",
   "id": "cbc46aa2",
   "metadata": {},
   "source": [
    "* 2) Create a variable to store the string \"Earth revolves around the sun\"\n",
    "* 3) Print \"revolves\" using slice operator\n",
    "* 4) Print \"sun\" using negative index"
   ]
  },
  {
   "cell_type": "code",
   "execution_count": 10,
   "id": "c50b5608",
   "metadata": {},
   "outputs": [
    {
     "name": "stdout",
     "output_type": "stream",
     "text": [
      "revolves\n",
      "sun\n"
     ]
    }
   ],
   "source": [
    "earth = \"Earth revolves around the sun\";\n",
    "print(earth[6:14:1])\n",
    "print(earth[-3:])"
   ]
  },
  {
   "cell_type": "markdown",
   "id": "7ca7fdd5",
   "metadata": {},
   "source": [
    "5) Create two variables to store how many fruits and vegetables you eat in a day. Now Print \"I eat x veggies and y fruits daily\" where x and y presents vegetables and fruits that you eat everyday. Use python f string for this."
   ]
  },
  {
   "cell_type": "code",
   "execution_count": 11,
   "id": "d65b6218",
   "metadata": {},
   "outputs": [
    {
     "name": "stdout",
     "output_type": "stream",
     "text": [
      "I eat 2 veggies and 4 fruits daily\n"
     ]
    }
   ],
   "source": [
    "fruit=\"2\";\n",
    "vegatable=\"4\";\n",
    "msg=f\"I eat {fruit} veggies and {vegatable} fruits daily\"\n",
    "print(msg)"
   ]
  },
  {
   "cell_type": "markdown",
   "id": "079d6725",
   "metadata": {},
   "source": [
    "6) I have a string variable called s='maine 200 banana khaye'. This of course is a wrong statement, the correct statement is 'maine 10 samosa khaye'. Replace incorrect words in original string with new ones and print the new string. Also try to do this in one line"
   ]
  },
  {
   "cell_type": "code",
   "execution_count": 12,
   "id": "50d6749b",
   "metadata": {},
   "outputs": [
    {
     "data": {
      "text/plain": [
       "'maine 10 samosa khaye'"
      ]
     },
     "execution_count": 12,
     "metadata": {},
     "output_type": "execute_result"
    }
   ],
   "source": [
    "s='maine 200 banana khaye'\n",
    "s.replace(\"200 banana\",\"10 samosa\")\n"
   ]
  },
  {
   "cell_type": "markdown",
   "id": "5a2c1b75",
   "metadata": {},
   "source": [
    "## Exercise 5 : Python Lists"
   ]
  },
  {
   "cell_type": "markdown",
   "id": "a01ff777",
   "metadata": {},
   "source": [
    "Exercise: Python Lists\n",
    "* Q 1 ) Let us say your expense for every month are listed below,\n",
    "* January - 2200\n",
    "* February - 2350\n",
    "* March - 2600\n",
    "* April - 2130\n",
    "* May - 2190\n",
    "* Create a list to store these monthly expenses and using that find out,\n",
    "\n",
    "* 1. In Feb, how many dollars you spent extra compare to January?\n",
    "* 2. Find out your total expense in first quarter (first three months) of the year.\n",
    "* 3. Find out if you spent exactly 2000 dollars in any month\n",
    "* 4. June month just finished and your expense is 1980 dollar. Add this item to our monthly expense list\n",
    "* 5. You returned an item that you bought in a month of April and\n",
    "* got a refund of 200$. Make a correction to your monthly expense list based on this\n",
    "* Q2 ) You have a list of your favourite marvel super heros.\n",
    "*     heros=['spider man','thor','hulk','iron man','captain america']\n",
    "*     Using this find out,\n",
    "\n",
    "*  1. Length of the list\n",
    "*  2. Add 'black panther' at the end of this list\n",
    "*  3. You realize that you need to add 'black panther' after 'hulk',\n",
    "   so remove it from the list first and then add it after 'hulk'\n",
    "* 4. Now you don't like thor and hulk because they get angry easily :)\n",
    "   So you want to remove thor and hulk from list and replace them with doctor strange (because he is cool).\n",
    "   Do that with one line of code.\n",
    "* 5. Sort the heros list in alphabetical order (Hint. Use dir() functions to list down all functions available in list)"
   ]
  },
  {
   "cell_type": "code",
   "execution_count": 13,
   "id": "8ba8d779",
   "metadata": {},
   "outputs": [
    {
     "name": "stdout",
     "output_type": "stream",
     "text": [
      "150\n",
      "7150\n",
      "False\n",
      "[2200, 2350, 2600, 2130, 2190, 1980]\n",
      "1930\n",
      "[2200, 2350, 2600, 1930, 2190, 1980]\n"
     ]
    }
   ],
   "source": [
    "#Q1 \n",
    "expenses = [2200,2350,2600,2130,2190]\n",
    "feb_extra_expense = expenses[1]-expenses[0]\n",
    "print(feb_extra_expense)\n",
    "\n",
    "first_quarter_expense=expenses[0]+expenses[1]+expenses[2]\n",
    "print(first_quarter_expense)\n",
    "\n",
    "find_2000 = 2000 in expenses\n",
    "print(find_2000)\n",
    "\n",
    "expenses.append(1980)\n",
    "print(expenses)\n",
    "\n",
    "april_adjusted = expenses[3]-200\n",
    "print(april_adjusted)\n",
    "expenses[3]=april_adjusted\n",
    "print(expenses)"
   ]
  },
  {
   "cell_type": "code",
   "execution_count": 14,
   "id": "ad412cf9",
   "metadata": {},
   "outputs": [
    {
     "name": "stdout",
     "output_type": "stream",
     "text": [
      "5\n",
      "['spider man', 'thor', 'hulk', 'iron man', 'captain america', 'black panther']\n",
      "6\n",
      "['spider man', 'thor', 'hulk', 'iron man', 'captain america']\n",
      "['spider man', 'thor', 'hulk', 'black panther', 'iron man', 'captain america']\n",
      "['spider man', 'dr Strange', 'black panther', 'iron man', 'captain america']\n",
      "['black panther', 'captain america', 'dr Strange', 'iron man', 'spider man']\n"
     ]
    }
   ],
   "source": [
    "# Q2\n",
    "heros=['spider man','thor','hulk','iron man','captain america']\n",
    "print(len(heros))\n",
    "\n",
    "heros.append(\"black panther\")\n",
    "print(heros)\n",
    "print(len(heros))\n",
    "\n",
    "heros.remove(\"black panther\")\n",
    "print(heros)\n",
    "heros.insert(3,\"black panther\")\n",
    "print(heros)\n",
    "\n",
    "heros[1:3]=[\"dr Strange\"]\n",
    "print(heros)\n",
    "\n",
    "heros.sort()\n",
    "print(heros)"
   ]
  },
  {
   "cell_type": "markdown",
   "id": "d5bafff1",
   "metadata": {},
   "source": [
    "## Exercise 08"
   ]
  },
  {
   "cell_type": "markdown",
   "id": "eff6ccaa",
   "metadata": {},
   "source": [
    "Exercise: Python If Condition\n",
    "* Q1) Using following list of cities per country,\n",
    "* india = [\"mumbai\", \"banglore\", \"chennai\", \"delhi\"]\n",
    "* pakistan = [\"lahore\",\"karachi\",\"islamabad\"]\n",
    "* bangladesh = [\"dhaka\", \"khulna\", \"rangpur\"]\n",
    "* Write a program that asks user to enter a city name and it should tell which country the city belongs to\n",
    "* Write a program that asks user to enter two cities and it tells you if they both are in same country or not. For example if I enter mumbai and chennai, it will print \"Both cities are in India\" but if I enter mumbai and dhaka it should print \"They don't belong to same country\"\n",
    "* Q2) Write a python program that can tell you if your sugar is normal or not. Normal fasting level sugar range is 80 to 100.\n",
    "* Ask user to enter his fasting sugar level\n",
    "* If it is below 80 to 100 range then print that sugar is low\n",
    "* If it is above 100 then print that it is high otherwise print that it is normal"
   ]
  },
  {
   "cell_type": "code",
   "execution_count": 15,
   "id": "68d9ba2b",
   "metadata": {},
   "outputs": [
    {
     "name": "stdout",
     "output_type": "stream",
     "text": [
      "Enter the City name you want to travel: karachi\n",
      "This city belongs to Pakistan\n"
     ]
    }
   ],
   "source": [
    "# Q1 (i)\n",
    "\n",
    "city_name = input(\"Enter the City name you want to travel: \")\n",
    "city_name = city_name.lower()\n",
    "india = [\"mumbai\", \"banglore\", \"chennai\", \"delhi\"]\n",
    "pakistan = [\"lahore\",\"karachi\",\"islamabad\"]\n",
    "bangladesh = [\"dhaka\", \"khulna\", \"rangpur\"]\n",
    "if city_name in india:\n",
    "    print(\"This city belongs to India\")\n",
    "elif city_name in pakistan:\n",
    "    print(\"This city belongs to Pakistan\")\n",
    "elif city_name in bangladesh:\n",
    "    print(\"This city belongs to bangladeh\")\n",
    "else: {\n",
    "   print(\"This city is not in the list\")\n",
    "}"
   ]
  },
  {
   "cell_type": "code",
   "execution_count": 16,
   "id": "64fbb92c",
   "metadata": {},
   "outputs": [
    {
     "name": "stdout",
     "output_type": "stream",
     "text": [
      "Enter the first Citykarachi\n",
      "Enter the second citykaarachi\n",
      "Both did not belong to same country \n"
     ]
    }
   ],
   "source": [
    "# Q1(ii)\n",
    "city_name1=input(\"Enter the first City\")\n",
    "city_name2=input(\"Enter the second city\")\n",
    "city_name1 = city_name1.lower()\n",
    "city_name2 = city_name2.lower()\n",
    "india = [\"mumbai\", \"banglore\", \"chennai\", \"delhi\"]\n",
    "pakistan = [\"lahore\",\"karachi\",\"islamabad\"]\n",
    "bangladesh = [\"dhaka\", \"khulna\", \"rangpur\"]\n",
    "\n",
    "if(city_name1 in india and city_name2 in india):\n",
    "    print(\"They both belongs to same country \")\n",
    "elif(city_name1 in pakistan and city_name2 in pakistan):\n",
    "    print(\"They both belongs to same country \")\n",
    "elif(city_name1 in bangladesh and city_name2 in bangladesh):\n",
    "    print(\"They both belongs to same country \")\n",
    "else:\n",
    "    print(\"Both did not belong to same country \")"
   ]
  },
  {
   "cell_type": "code",
   "execution_count": 17,
   "id": "81330967",
   "metadata": {},
   "outputs": [
    {
     "name": "stdout",
     "output_type": "stream",
     "text": [
      "Enter your sugar level22\n",
      "It is normal\n"
     ]
    }
   ],
   "source": [
    "# Q2) \n",
    "sugar_level=int(input(\"Enter your sugar level\"))\n",
    "if (sugar_level>=80 and sugar_level<=100):\n",
    "    print(\"Sugar is low\")\n",
    "elif(sugar_level>=100):\n",
    "    print(\"Sugar is high\")\n",
    "else:\n",
    "    print(\"It is normal\")"
   ]
  },
  {
   "cell_type": "markdown",
   "id": "6c5e2f76",
   "metadata": {},
   "source": [
    "## Exercise 09\n"
   ]
  },
  {
   "cell_type": "markdown",
   "id": "678f3ef8",
   "metadata": {},
   "source": [
    "* Exercise: Python for loop\n",
    "* After flipping a coin 10 times you got this result,\n",
    "* result = [\"heads\",\"tails\",\"tails\",\"heads\",\"tails\",\"heads\",\"heads\",\"tails\",\"tails\",\"tails\"]\n",
    "* Using for loop figure out how many times you got heads\n",
    "\n",
    "* Print square of all numbers between 1 to 10 except even numbers\n",
    "* Your monthly expense list (from Jan to May) looks like this,\n",
    "* expense_list = [2340, 2500, 2100, 3100, 2980]\n",
    "* Write a program that asks you to enter an expense amount and program should tell you in which month that expense occurred. If   expense is not found then it should print that as well.\n",
    "\n",
    "* Lets say you are running a 5 km race. Write a program that,\n",
    "\n",
    "* Upon completing each 1 km asks you \"are you tired?\"\n",
    "* If you reply \"yes\" then it should break and print \"you didn't finish the race\"\n",
    "* If you reply \"no\" then it should continue and ask \"are you tired\" on every km\n",
    "* If you finish all 5 km then it should print congratulations message\n",
    "* Write a program that prints following shape\n",
    "\n",
    "* '   *   '\n",
    "* '   **  '\n",
    "* '   ***  '\n",
    "* '   ****  '\n",
    "* '   ***** '"
   ]
  },
  {
   "cell_type": "code",
   "execution_count": 18,
   "id": "9ca26d3b",
   "metadata": {},
   "outputs": [
    {
     "name": "stdout",
     "output_type": "stream",
     "text": [
      "4\n"
     ]
    }
   ],
   "source": [
    "# Qs 1\n",
    "result = [\"heads\",\"tails\",\"tails\",\"heads\",\"tails\",\"heads\",\"heads\",\"tails\",\"tails\",\"tails\"]\n",
    "count = 0\n",
    "for i in result:\n",
    "    if i==\"heads\":\n",
    "        count += 1\n",
    "print(count)\n",
    "\n",
    "\n",
    "    \n"
   ]
  },
  {
   "cell_type": "code",
   "execution_count": 19,
   "id": "f50bd6fa",
   "metadata": {},
   "outputs": [
    {
     "name": "stdout",
     "output_type": "stream",
     "text": [
      "1\n",
      "9\n",
      "25\n",
      "49\n",
      "81\n"
     ]
    }
   ],
   "source": [
    "# Q2) Print square of all numbers between 1 to 10 except even numbers\n",
    "for i in range(1,11):\n",
    "    if i%2!=0:\n",
    "        print(i**2)\n",
    "        "
   ]
  },
  {
   "cell_type": "code",
   "execution_count": 20,
   "id": "4f43f8e0",
   "metadata": {},
   "outputs": [
    {
     "name": "stdout",
     "output_type": "stream",
     "text": [
      "1\n",
      "9\n",
      "25\n",
      "49\n",
      "81\n"
     ]
    }
   ],
   "source": [
    "# Q2) Print square of all numbers between 1 to 10 except even numbers # Another Method\n",
    "for i in range(10):\n",
    "    if i%2==0:\n",
    "        continue\n",
    "    print(i*i)\n",
    "        "
   ]
  },
  {
   "cell_type": "markdown",
   "id": "245cb53d",
   "metadata": {},
   "source": [
    "#### Q3)expense_list = [2340, 2500, 2100, 3100, 2980]\n",
    "\n",
    "#### Write a program that asks you to enter an expense amount and program should tell you in which month that expense occurred. If expense is not found then it should print that as well."
   ]
  },
  {
   "cell_type": "code",
   "execution_count": 21,
   "id": "b7b843e3",
   "metadata": {},
   "outputs": [
    {
     "name": "stdout",
     "output_type": "stream",
     "text": [
      "Enter your expenses2234\n",
      "Expense of 2234 not found in any month.\n"
     ]
    }
   ],
   "source": [
    "expense_list = [2340, 2500, 2100, 3100, 2980]\n",
    "month_list = [\"January\", \"February\", \"March\", \"April\", \"May\"]\n",
    "expense_amount=int(input(\"Enter your expenses\"))\n",
    "found = False \n",
    "for i in range(len(expense_list)):\n",
    "    if expense_list[i]==expense_amount :\n",
    "        print(f\"You spent {expense_amount}in {month_list[i]}\")\n",
    "        found = True\n",
    "if not found :\n",
    "    print(f\"Expense of {expense_amount} not found in any month.\")\n"
   ]
  },
  {
   "cell_type": "markdown",
   "id": "3f72a778",
   "metadata": {},
   "source": [
    "Q4) Lets say you are running a 5 km race. Write a program that,\n",
    "\n",
    "Upon completing each 1 km asks you \"are you tired?\"\n",
    "\n",
    "If you reply \"yes\" then it should break and print \"you didn't finish the race\"\n",
    "\n",
    "If you reply \"no\" then it should continue and ask \"are you tired\" on every km\n",
    "\n",
    "If you finish all 5 km then it should print congratulations message"
   ]
  },
  {
   "cell_type": "code",
   "execution_count": 22,
   "id": "56b0f04e",
   "metadata": {},
   "outputs": [
    {
     "name": "stdout",
     "output_type": "stream",
     "text": [
      "You run 1 miles\n",
      "Are you tired: no\n",
      "You run 2 miles\n",
      "Are you tired: no\n",
      "You run 3 miles\n",
      "Are you tired: yes\n",
      "You didnot finish the race \n"
     ]
    }
   ],
   "source": [
    "for i in range(1,5):\n",
    "    print(f\"You run {i} miles\")\n",
    "    tired=input(\"Are you tired: \")\n",
    "    if (tired ==\"yes\"):\n",
    "        print(\"You didnot finish the race \")\n",
    "        break \n",
    "        \n",
    "    if(i==4):\n",
    "        print(\"CONg\")\n",
    "    elif(tired==\"no\"):\n",
    "        continue\n",
    "        "
   ]
  },
  {
   "cell_type": "markdown",
   "id": "af10d235",
   "metadata": {},
   "source": [
    "Q5) Write a program that prints following shape\n",
    "\n",
    "' * '\n",
    "\n",
    "' ** '\n",
    "\n",
    "' *** '\n",
    "\n",
    "' **** '\n",
    "\n",
    "' ***** '"
   ]
  },
  {
   "cell_type": "code",
   "execution_count": 23,
   "id": "56689ee3",
   "metadata": {},
   "outputs": [
    {
     "name": "stdout",
     "output_type": "stream",
     "text": [
      "\n",
      "*\n",
      "**\n",
      "***\n",
      "****\n",
      "*****\n"
     ]
    }
   ],
   "source": [
    "for i in range(6):\n",
    "    s=\"\"\n",
    "    for j in range(i):\n",
    "        s +=\"*\"\n",
    "    print(s)"
   ]
  },
  {
   "cell_type": "markdown",
   "id": "9d1d9666",
   "metadata": {},
   "source": [
    "## Exercise10: Functions in python\n",
    "* Q1) Write a function called calculate_area that takes base and height as an input and returns and area of a triangle. Equation   of  an area of a triangle is,\n",
    "* area = (1/2)*base*height\n",
    "* Q2) Modify above function to take third parameter shape type. It can be either \"triangle\" or \"rectangle\". Based on shape type   it will calculate area. Equation of rectangle's area is,\n",
    "* rectangle area=length*width\n",
    "* If no shape is supplied then it should take triangle as a default shape\n",
    "\n",
    "* Q3) Write a function called print_pattern that takes integer number as an argument and prints following pattern if input number is 3,\n",
    "* \"*\"\n",
    "* \"**\"\n",
    "* \"***\"\n",
    "* if input is 4 then it should print\n",
    "\n",
    "* \"*\"\n",
    "* \"**\"\n",
    "* \"***\"\n",
    "* \"****\"\n",
    "* Basically number of lines it prints is equal to that number. (Hint: you need to use two for loops)"
   ]
  },
  {
   "cell_type": "code",
   "execution_count": 24,
   "id": "779916ee",
   "metadata": {},
   "outputs": [
    {
     "data": {
      "text/plain": [
       "10.0"
      ]
     },
     "execution_count": 24,
     "metadata": {},
     "output_type": "execute_result"
    }
   ],
   "source": [
    "# Question 01\n",
    "def calculate_area(base,height):\n",
    "    area = (1/2)*base*height\n",
    "    return area \n",
    "calculate_area(5,4)"
   ]
  },
  {
   "cell_type": "code",
   "execution_count": 25,
   "id": "38db62ef",
   "metadata": {},
   "outputs": [
    {
     "name": "stdout",
     "output_type": "stream",
     "text": [
      "20\n",
      "10.0\n",
      "10.0\n"
     ]
    }
   ],
   "source": [
    "# Question 02\n",
    "def calculate_area_shape(base,height,shape):\n",
    "    shape=shape.lower()\n",
    "    if (shape == \"rectangle\"):\n",
    "        area=base*height\n",
    "    elif(shape == \"triangle\"):\n",
    "        area = (1/2)*base*height\n",
    "    else:\n",
    "        print(\"write correct name of shape\")\n",
    "    return area \n",
    "print(calculate_area_shape(4,5,\"rectangle\"))\n",
    "print(calculate_area_shape(4,5,\"triangle\"))\n",
    "print(calculate_area_shape(4,5,\"TRIANGLE\"))\n"
   ]
  },
  {
   "cell_type": "code",
   "execution_count": 26,
   "id": "acbca386",
   "metadata": {},
   "outputs": [
    {
     "name": "stdout",
     "output_type": "stream",
     "text": [
      "*\n",
      "**\n",
      "***\n",
      "****\n",
      "*\n",
      "**\n",
      "***\n"
     ]
    }
   ],
   "source": [
    "# Question 03\n",
    "def print_pattern(num1):\n",
    "    num1=int(num1)\n",
    "    for i in range(num1):\n",
    "        s=\"\"\n",
    "        for j in range(i+1):\n",
    "            s += \"*\"\n",
    "        print(s)\n",
    "print_pattern(4)\n",
    "print_pattern(3)"
   ]
  },
  {
   "cell_type": "markdown",
   "id": "93a9190e",
   "metadata": {},
   "source": [
    "## Exercise 11 \n",
    "* 1)  We have following information on countries and their population (population is in crores),\n",
    "\n",
    "* Country\tPopulation\n",
    "* China\t143\n",
    "* India\t136\n",
    "* USA\t32\n",
    "* Pakistan\t21\n",
    "* Using above create a dictionary of countries and its population\n",
    "* Write a program that asks user for three type of inputs,\n",
    "* print: if user enter print then it should print all countries with their population in this format,\n",
    "* china==>143\n",
    "* india==>136\n",
    "* usa==>32\n",
    "* pakistan==>21\n",
    "* add: if user input add then it should further ask for a country name to add. If country already exist in our dataset then it     should print that it exist and do nothing. If it doesn't then it asks for population and add that new country/population in     our dictionary and print it\n",
    "* remove: when user inputs remove it should ask for a country to remove. If country exist in our dictionary then remove it and     print new dictionary using format shown above in (a). Else print that country doesn't exist!\n",
    "* query: on this again ask user for which country he or she wants to query. When user inputs that country it will print           population of that country.\n",
    "\n",
    "* 2)You are given following list of stocks and their prices in last 3 days,\n",
    "\n",
    "* Stock\tPrices\n",
    "* info\t[600,630,620]\n",
    "* ril\t[1430,1490,1567]\n",
    "* mtl\t[234,180,160]\n",
    "* Write a program that asks user for operation. Value of operations could be,\n",
    "* print: When user enters print it should print following,\n",
    "* info ==> [600, 630, 620] ==> avg:  616.67\n",
    "* ril ==> [1430, 1490, 1567] ==> avg:  1495.67\n",
    "* mtl ==> [234, 180, 160] ==> avg:  191.33\n",
    "* add: When user enters 'add', it asks for stock ticker and price. If stock already exist in your list (like info, ril etc) then   it will append the price to the list. Otherwise it will create new entry in your dictionary. For example entering 'tata' and     560 will add tata ==> [560] to the dictionary of stocks.\n",
    "* 3) Write circle_calc() function that takes radius of a circle as an input from user and then it calculates and returns area,      circumference and diameter. You should get these values in your main program by calling circle_calc function and then print them"
   ]
  },
  {
   "cell_type": "code",
   "execution_count": 61,
   "id": "38a8d650",
   "metadata": {},
   "outputs": [
    {
     "name": "stdout",
     "output_type": "stream",
     "text": [
      "Enter the country you want to remove: pakistan\n"
     ]
    }
   ],
   "source": [
    "# Question 01\n",
    "\n",
    "population = {\n",
    "    \"china\":143,\n",
    "    \"india\":136,\n",
    "    \"usa\":32,\n",
    "    \"pakistan\":21\n",
    "}\n",
    "def print_all():\n",
    "    for country,i in population.items():\n",
    "        print(f'{country} => {i}')\n",
    "\n",
    "def add_all():\n",
    "    country= input(\"Enter the country you want to add: \")\n",
    "    country=country.lower()\n",
    "    if country in population:\n",
    "        print (\"This country already exits in this list \")\n",
    "    else:\n",
    "        country_population=float(input(\"Enter the population of country\"))\n",
    "        population[country]=country_population\n",
    "        return print_all()\n",
    "#(add_all())\n",
    "\n",
    "def remove():\n",
    "    country=input(\"Enter the country you want to remove: \") \n",
    "    if country in population:\n",
    "        del population[country]\n",
    "        print_all()\n",
    "remove()        "
   ]
  },
  {
   "cell_type": "code",
   "execution_count": null,
   "id": "65d9f86a",
   "metadata": {},
   "outputs": [],
   "source": []
  }
 ],
 "metadata": {
  "kernelspec": {
   "display_name": "Python 3 (ipykernel)",
   "language": "python",
   "name": "python3"
  },
  "language_info": {
   "codemirror_mode": {
    "name": "ipython",
    "version": 3
   },
   "file_extension": ".py",
   "mimetype": "text/x-python",
   "name": "python",
   "nbconvert_exporter": "python",
   "pygments_lexer": "ipython3",
   "version": "3.9.13"
  }
 },
 "nbformat": 4,
 "nbformat_minor": 5
}
